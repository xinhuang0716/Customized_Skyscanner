{
 "cells": [
  {
   "cell_type": "code",
   "execution_count": 1,
   "metadata": {},
   "outputs": [],
   "source": [
    "## import packages\n",
    "from utilities.airline import TigerQuery\n",
    "from utilities.optimal import OptimalTrip\n",
    "import json, warnings, pandas as pd\n",
    "warnings.filterwarnings(\"ignore\")\n",
    "\n",
    "## airport code\n",
    "airport_dict = json.load(open(\"./config/airport.json\"))"
   ]
  },
  {
   "cell_type": "markdown",
   "metadata": {},
   "source": [
    "- Tiger Airline"
   ]
  },
  {
   "cell_type": "code",
   "execution_count": 2,
   "metadata": {},
   "outputs": [],
   "source": [
    "## query\n",
    "df_tiger_go = pd.concat([TigerQuery(i, \"2024-01-01\", \"2024-05-31\") for i in list(airport_dict.keys())] + \n",
    "                        [TigerQuery(i, \"2024-06-01\", \"2024-10-31\") for i in list(airport_dict.keys())])\n",
    "df_tiger_back = pd.concat([TigerQuery(i, \"2024-01-01\", \"2024-05-31\", False) for i in list(airport_dict.keys())] + \n",
    "                          [TigerQuery(i, \"2024-06-01\", \"2024-10-31\", False) for i in list(airport_dict.keys())])\n",
    "\n",
    "## data preprocessing\n",
    "df = pd.concat([df_tiger_go, df_tiger_back])\n",
    "\n",
    "## output\n",
    "df.to_csv(\"./data/result_tiger.csv\", index = False, encoding = \"utf-8-sig\")\n",
    "pd.concat([OptimalTrip(i) for i in range(2, 16)]).to_csv(\"./data/optimal_trip_tiger.csv\", index = False, encoding = \"utf-8-sig\")"
   ]
  },
  {
   "cell_type": "markdown",
   "metadata": {},
   "source": [
    "- Peach Airline"
   ]
  },
  {
   "cell_type": "code",
   "execution_count": 2,
   "metadata": {},
   "outputs": [],
   "source": [
    "API_url = \"https://booking.flypeach.com/tw/flight_search/lowest_prices?departure_airport=TPE&arrival_airport=OKA&start_date=2024-01-10&end_date=2024-01-31\""
   ]
  }
 ],
 "metadata": {
  "kernelspec": {
   "display_name": "base",
   "language": "python",
   "name": "python3"
  },
  "language_info": {
   "codemirror_mode": {
    "name": "ipython",
    "version": 3
   },
   "file_extension": ".py",
   "mimetype": "text/x-python",
   "name": "python",
   "nbconvert_exporter": "python",
   "pygments_lexer": "ipython3",
   "version": "3.8.8"
  }
 },
 "nbformat": 4,
 "nbformat_minor": 2
}
